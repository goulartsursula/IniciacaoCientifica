{
  "nbformat": 4,
  "nbformat_minor": 0,
  "metadata": {
    "colab": {
      "name": "plot_dimoun_doublemu.ipynb",
      "provenance": [],
      "authorship_tag": "ABX9TyMY4szMa58Lu88pxXmKcCiD",
      "include_colab_link": true
    },
    "kernelspec": {
      "name": "python3",
      "display_name": "Python 3"
    }
  },
  "cells": [
    {
      "cell_type": "markdown",
      "metadata": {
        "id": "view-in-github",
        "colab_type": "text"
      },
      "source": [
        "<a href=\"https://colab.research.google.com/github/goulartsursula/iniciacao-cientifica/blob/master/notebooks/plot_dimoun_doublemu.ipynb\" target=\"_parent\"><img src=\"https://colab.research.google.com/assets/colab-badge.svg\" alt=\"Open In Colab\"/></a>"
      ]
    },
    {
      "cell_type": "markdown",
      "metadata": {
        "id": "cafpg6tVetwV"
      },
      "source": [
        "```\n",
        "1.   Como importar arquivos do github, usando pandas\n",
        "2.   Escolher uma coluna desse arquivo (csv)\n",
        "3.   Criar um histograma a partir do arquivo\n",
        "4.   Definir um intervalo e criar um histograma em cima do outro\n",
        "5.   O que são bins?\n",
        "          Step 1: \n",
        "              Count the Number of Data Points\n",
        "              Let's say we have 50 data points.\n",
        "              If your data is in Excel, use Excel's count function to determine the number of data points.\n",
        "\n",
        "          Step 2: \n",
        "             Calculate the # of Bins, then round up # of bins = square root of the # of data points the square root of 50 = 7.071, round up to 8.\n",
        "             In Excel, add the SQRT function to your calculation then add the Roundup function.\n",
        "             \n",
        "          Step 3: \n",
        "             Calculate the Bin Width \n",
        "             Bin width = Spec Tolerance or Range ÷ number of bins Spec  \n",
        "             Tolerance = USL-LSL\n",
        "             Range = Max - Min\n",
        "             \n",
        "      If we use the range for this example:\n",
        "             Bin width = (Max-Min) ÷ Number of bins\n",
        "             Bin width = (346 - 187) ÷ 8 = 19.875\n",
        "\n",
        "```"
      ]
    },
    {
      "cell_type": "code",
      "metadata": {
        "id": "wtr1Tzaj3Egy",
        "outputId": "f06eb311-265f-4336-b1d6-a3a4b9cd39e0",
        "colab": {
          "base_uri": "https://localhost:8080/",
          "height": 217
        }
      },
      "source": [
        "import pandas as pd\n",
        "import matplotlib.pyplot as plt\n",
        "%matplotlib inline\n",
        "\n",
        "url = 'https://raw.githubusercontent.com/goulartsursula/iniciacao-cientifica/master/Dimuon_DoubleMu.csv'\n",
        "dataset = pd.read_csv(url)\n",
        "\n",
        "dataset.head()"
      ],
      "execution_count": null,
      "outputs": [
        {
          "output_type": "execute_result",
          "data": {
            "text/html": [
              "<div>\n",
              "<style scoped>\n",
              "    .dataframe tbody tr th:only-of-type {\n",
              "        vertical-align: middle;\n",
              "    }\n",
              "\n",
              "    .dataframe tbody tr th {\n",
              "        vertical-align: top;\n",
              "    }\n",
              "\n",
              "    .dataframe thead th {\n",
              "        text-align: right;\n",
              "    }\n",
              "</style>\n",
              "<table border=\"1\" class=\"dataframe\">\n",
              "  <thead>\n",
              "    <tr style=\"text-align: right;\">\n",
              "      <th></th>\n",
              "      <th>Run</th>\n",
              "      <th>Event</th>\n",
              "      <th>type1</th>\n",
              "      <th>E1</th>\n",
              "      <th>px1</th>\n",
              "      <th>py1</th>\n",
              "      <th>pz1</th>\n",
              "      <th>pt1</th>\n",
              "      <th>eta1</th>\n",
              "      <th>phi1</th>\n",
              "      <th>Q1</th>\n",
              "      <th>type2</th>\n",
              "      <th>E2</th>\n",
              "      <th>px2</th>\n",
              "      <th>py2</th>\n",
              "      <th>pz2</th>\n",
              "      <th>pt2</th>\n",
              "      <th>eta2</th>\n",
              "      <th>phi2</th>\n",
              "      <th>Q2</th>\n",
              "      <th>M</th>\n",
              "    </tr>\n",
              "  </thead>\n",
              "  <tbody>\n",
              "    <tr>\n",
              "      <th>0</th>\n",
              "      <td>165617</td>\n",
              "      <td>74601703</td>\n",
              "      <td>G</td>\n",
              "      <td>9.6987</td>\n",
              "      <td>-9.5104</td>\n",
              "      <td>0.3662</td>\n",
              "      <td>1.8633</td>\n",
              "      <td>9.5175</td>\n",
              "      <td>0.1945</td>\n",
              "      <td>3.1031</td>\n",
              "      <td>-1</td>\n",
              "      <td>G</td>\n",
              "      <td>9.7633</td>\n",
              "      <td>7.3277</td>\n",
              "      <td>-1.1524</td>\n",
              "      <td>6.3473</td>\n",
              "      <td>7.4178</td>\n",
              "      <td>0.7756</td>\n",
              "      <td>-0.1560</td>\n",
              "      <td>1</td>\n",
              "      <td>17.4922</td>\n",
              "    </tr>\n",
              "    <tr>\n",
              "      <th>1</th>\n",
              "      <td>165617</td>\n",
              "      <td>75100943</td>\n",
              "      <td>G</td>\n",
              "      <td>6.2039</td>\n",
              "      <td>-4.2666</td>\n",
              "      <td>0.4565</td>\n",
              "      <td>-4.4793</td>\n",
              "      <td>4.2910</td>\n",
              "      <td>-0.9121</td>\n",
              "      <td>3.0350</td>\n",
              "      <td>-1</td>\n",
              "      <td>G</td>\n",
              "      <td>9.6690</td>\n",
              "      <td>7.2740</td>\n",
              "      <td>-2.8211</td>\n",
              "      <td>-5.7104</td>\n",
              "      <td>7.8019</td>\n",
              "      <td>-0.6786</td>\n",
              "      <td>-0.3700</td>\n",
              "      <td>1</td>\n",
              "      <td>11.5534</td>\n",
              "    </tr>\n",
              "    <tr>\n",
              "      <th>2</th>\n",
              "      <td>165617</td>\n",
              "      <td>75587682</td>\n",
              "      <td>G</td>\n",
              "      <td>19.2892</td>\n",
              "      <td>-4.2121</td>\n",
              "      <td>-0.6516</td>\n",
              "      <td>18.8121</td>\n",
              "      <td>4.2622</td>\n",
              "      <td>2.1905</td>\n",
              "      <td>-2.9881</td>\n",
              "      <td>-1</td>\n",
              "      <td>G</td>\n",
              "      <td>9.8244</td>\n",
              "      <td>4.3439</td>\n",
              "      <td>-0.4735</td>\n",
              "      <td>8.7985</td>\n",
              "      <td>4.3697</td>\n",
              "      <td>1.4497</td>\n",
              "      <td>-0.1086</td>\n",
              "      <td>1</td>\n",
              "      <td>9.1636</td>\n",
              "    </tr>\n",
              "    <tr>\n",
              "      <th>3</th>\n",
              "      <td>165617</td>\n",
              "      <td>75660978</td>\n",
              "      <td>G</td>\n",
              "      <td>7.0427</td>\n",
              "      <td>-6.3268</td>\n",
              "      <td>-0.2685</td>\n",
              "      <td>3.0802</td>\n",
              "      <td>6.3325</td>\n",
              "      <td>0.4690</td>\n",
              "      <td>-3.0992</td>\n",
              "      <td>-1</td>\n",
              "      <td>G</td>\n",
              "      <td>5.5857</td>\n",
              "      <td>4.4748</td>\n",
              "      <td>0.8489</td>\n",
              "      <td>-3.2319</td>\n",
              "      <td>4.5546</td>\n",
              "      <td>-0.6605</td>\n",
              "      <td>0.1875</td>\n",
              "      <td>1</td>\n",
              "      <td>12.4774</td>\n",
              "    </tr>\n",
              "    <tr>\n",
              "      <th>4</th>\n",
              "      <td>165617</td>\n",
              "      <td>75947690</td>\n",
              "      <td>G</td>\n",
              "      <td>7.2751</td>\n",
              "      <td>0.1030</td>\n",
              "      <td>-5.5331</td>\n",
              "      <td>-4.7212</td>\n",
              "      <td>5.5340</td>\n",
              "      <td>-0.7736</td>\n",
              "      <td>-1.5522</td>\n",
              "      <td>-1</td>\n",
              "      <td>G</td>\n",
              "      <td>7.3181</td>\n",
              "      <td>-0.3988</td>\n",
              "      <td>6.9408</td>\n",
              "      <td>2.2825</td>\n",
              "      <td>6.9523</td>\n",
              "      <td>0.3227</td>\n",
              "      <td>1.6282</td>\n",
              "      <td>1</td>\n",
              "      <td>14.3159</td>\n",
              "    </tr>\n",
              "  </tbody>\n",
              "</table>\n",
              "</div>"
            ],
            "text/plain": [
              "      Run     Event type1       E1     px1  ...     pt2    eta2    phi2  Q2        M\n",
              "0  165617  74601703     G   9.6987 -9.5104  ...  7.4178  0.7756 -0.1560   1  17.4922\n",
              "1  165617  75100943     G   6.2039 -4.2666  ...  7.8019 -0.6786 -0.3700   1  11.5534\n",
              "2  165617  75587682     G  19.2892 -4.2121  ...  4.3697  1.4497 -0.1086   1   9.1636\n",
              "3  165617  75660978     G   7.0427 -6.3268  ...  4.5546 -0.6605  0.1875   1  12.4774\n",
              "4  165617  75947690     G   7.2751  0.1030  ...  6.9523  0.3227  1.6282   1  14.3159\n",
              "\n",
              "[5 rows x 21 columns]"
            ]
          },
          "metadata": {
            "tags": []
          },
          "execution_count": 1
        }
      ]
    },
    {
      "cell_type": "code",
      "metadata": {
        "id": "sVa6ZOPbI97s",
        "outputId": "353f508b-bb54-4d3c-d507-fc3e5b1437aa",
        "colab": {
          "base_uri": "https://localhost:8080/",
          "height": 310
        }
      },
      "source": [
        "invariant_mass = dataset['M']\n",
        "\n",
        "plt.xlabel('Invariant mass[GeV]')\n",
        "plt.ylabel('Number of events')\n",
        "plt.title('The histogram of the invariant masses of two muons \\n')\n",
        "plt.hist(invariant_mass, bins=50, range=(0,200))\n",
        "\n",
        "plt.show()"
      ],
      "execution_count": null,
      "outputs": [
        {
          "output_type": "display_data",
          "data": {
            "image/png": "[encoded data removed]",
            "text/plain": [
              "<Figure size 432x288 with 1 Axes>"
            ]
          },
          "metadata": {
            "tags": [],
            "needs_background": "light"
          }
        }
      ]
    },
    {
      "cell_type": "code",
      "metadata": {
        "id": "nRnCE2HmOHk2",
        "outputId": "0be55492-6cfa-4c04-804c-104e8a6e2a9a",
        "colab": {
          "base_uri": "https://localhost:8080/",
          "height": 310
        }
      },
      "source": [
        "newsethighE = dataset[dataset.E1+dataset.E2>150]\n",
        "newsetlowE = dataset[dataset.E1+dataset.E2<150]\n",
        "\n",
        "plt.xlabel('Invariant mass[GeV]')\n",
        "plt.ylabel('Number of events')\n",
        "plt.title('The invariant masses of two muon comparing high a nd low energy\\n')\n",
        "plt.hist(newsetlowE ['M'], bins=50, range=(80,100), alpha=0.5, label='Low E')\n",
        "plt.hist(newsethighE ['M'], bins=50, range=(80,100), alpha=0.5, label='High E')\n",
        "plt.legend(loc='upper right')\n",
        "plt.show()"
      ],
      "execution_count": null,
      "outputs": [
        {
          "output_type": "display_data",
          "data": {
            "image/png": "[encoded data removed]",
            "text/plain": [
              "<Figure size 432x288 with 1 Axes>"
            ]
          },
          "metadata": {
            "tags": [],
            "needs_background": "light"
          }
        }
      ]
    },
    {
      "cell_type": "code",
      "metadata": {
        "id": "tMcq6nrwUceK",
        "outputId": "e8aefdca-c6c8-429a-8d7c-2ce9ab049b6f",
        "colab": {
          "base_uri": "https://localhost:8080/",
          "height": 310
        }
      },
      "source": [
        "newsethighE = dataset[dataset.E1+dataset.E2>300]\n",
        "newsetlowE = dataset[dataset.E1+dataset.E2<300]\n",
        "\n",
        "plt.xlabel('Invariant mass[GeV]')\n",
        "plt.ylabel('Number of events')\n",
        "plt.title('The invariant masses of two muon comparing high a nd low energy\\n')\n",
        "plt.hist(newsetlowE ['M'], bins=50, range=(80,100), alpha=0.5, label='Low E')\n",
        "plt.hist(newsethighE ['M'], bins=50, range=(80,100), alpha=0.5, label='High E')\n",
        "plt.legend(loc='upper right')\n",
        "plt.show()"
      ],
      "execution_count": null,
      "outputs": [
        {
          "output_type": "display_data",
          "data": {
            "image/png": "[encoded data removed]",
            "text/plain": [
              "<Figure size 432x288 with 1 Axes>"
            ]
          },
          "metadata": {
            "tags": [],
            "needs_background": "light"
          }
        }
      ]
    }
  ]
}