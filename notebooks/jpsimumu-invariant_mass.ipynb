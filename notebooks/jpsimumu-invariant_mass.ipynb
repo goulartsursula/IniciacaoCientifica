{
  "nbformat": 4,
  "nbformat_minor": 0,
  "metadata": {
    "colab": {
      "name": "calculate_invariant_mass.ipynb",
      "provenance": [],
      "authorship_tag": "ABX9TyNfshRPhhDBYZ6lDXl2vaP9",
      "include_colab_link": true
    },
    "kernelspec": {
      "name": "python3",
      "display_name": "Python 3"
    }
  },
  "cells": [
    {
      "cell_type": "markdown",
      "metadata": {
        "id": "view-in-github",
        "colab_type": "text"
      },
      "source": [
        "<a href=\"https://colab.research.google.com/github/goulartsursula/iniciacao-cientifica/blob/master/notebooks/jpsimumu-invariant_mass.ipynb\" target=\"_parent\"><img src=\"https://colab.research.google.com/assets/colab-badge.svg\" alt=\"Open In Colab\"/></a>"
      ]
    },
    {
      "cell_type": "code",
      "metadata": {
        "id": "VCOHfgQ0lu27",
        "outputId": "59003ed6-4f8d-4f6b-82b7-e80429d92664",
        "colab": {
          "base_uri": "https://localhost:8080/",
          "height": 217
        }
      },
      "source": [
        "import pandas as pd\n",
        "import numpy as np\n",
        "\n",
        "df = pd.read_csv('https://raw.githubusercontent.com/cms-opendata-education/cms-jupyter-materials-english/master/Data/Jpsimumu_Run2011A.csv')\n",
        "df.head()"
      ],
      "execution_count": 2,
      "outputs": [
        {
          "output_type": "execute_result",
          "data": {
            "text/html": [
              "<div>\n",
              "<style scoped>\n",
              "    .dataframe tbody tr th:only-of-type {\n",
              "        vertical-align: middle;\n",
              "    }\n",
              "\n",
              "    .dataframe tbody tr th {\n",
              "        vertical-align: top;\n",
              "    }\n",
              "\n",
              "    .dataframe thead th {\n",
              "        text-align: right;\n",
              "    }\n",
              "</style>\n",
              "<table border=\"1\" class=\"dataframe\">\n",
              "  <thead>\n",
              "    <tr style=\"text-align: right;\">\n",
              "      <th></th>\n",
              "      <th>Run</th>\n",
              "      <th>Event</th>\n",
              "      <th>Type1</th>\n",
              "      <th>E1</th>\n",
              "      <th>px1</th>\n",
              "      <th>py1</th>\n",
              "      <th>pz1</th>\n",
              "      <th>pt1</th>\n",
              "      <th>eta1</th>\n",
              "      <th>phi1</th>\n",
              "      <th>Q1</th>\n",
              "      <th>Type2</th>\n",
              "      <th>E2</th>\n",
              "      <th>px2</th>\n",
              "      <th>py2</th>\n",
              "      <th>pz2</th>\n",
              "      <th>pt2</th>\n",
              "      <th>eta2</th>\n",
              "      <th>phi2</th>\n",
              "      <th>Q2</th>\n",
              "      <th>M</th>\n",
              "    </tr>\n",
              "  </thead>\n",
              "  <tbody>\n",
              "    <tr>\n",
              "      <th>0</th>\n",
              "      <td>165617</td>\n",
              "      <td>75206813</td>\n",
              "      <td>G</td>\n",
              "      <td>10.16230</td>\n",
              "      <td>0.476262</td>\n",
              "      <td>-8.51642</td>\n",
              "      <td>5.52306</td>\n",
              "      <td>8.52973</td>\n",
              "      <td>0.609133</td>\n",
              "      <td>-1.514930</td>\n",
              "      <td>-1</td>\n",
              "      <td>G</td>\n",
              "      <td>19.77540</td>\n",
              "      <td>2.750800</td>\n",
              "      <td>-13.987100</td>\n",
              "      <td>13.705900</td>\n",
              "      <td>14.255000</td>\n",
              "      <td>0.853872</td>\n",
              "      <td>-1.376610</td>\n",
              "      <td>1</td>\n",
              "      <td>3.11319</td>\n",
              "    </tr>\n",
              "    <tr>\n",
              "      <th>1</th>\n",
              "      <td>165617</td>\n",
              "      <td>75678475</td>\n",
              "      <td>G</td>\n",
              "      <td>15.87990</td>\n",
              "      <td>15.061800</td>\n",
              "      <td>-1.66581</td>\n",
              "      <td>-4.74643</td>\n",
              "      <td>15.15360</td>\n",
              "      <td>-0.308313</td>\n",
              "      <td>-0.110151</td>\n",
              "      <td>1</td>\n",
              "      <td>G</td>\n",
              "      <td>11.93380</td>\n",
              "      <td>11.908400</td>\n",
              "      <td>-0.767017</td>\n",
              "      <td>-0.085117</td>\n",
              "      <td>11.933000</td>\n",
              "      <td>-0.007133</td>\n",
              "      <td>-0.064321</td>\n",
              "      <td>-1</td>\n",
              "      <td>4.11735</td>\n",
              "    </tr>\n",
              "    <tr>\n",
              "      <th>2</th>\n",
              "      <td>165617</td>\n",
              "      <td>74428554</td>\n",
              "      <td>G</td>\n",
              "      <td>21.82790</td>\n",
              "      <td>-6.221380</td>\n",
              "      <td>11.08450</td>\n",
              "      <td>17.74470</td>\n",
              "      <td>12.71110</td>\n",
              "      <td>1.135660</td>\n",
              "      <td>2.082250</td>\n",
              "      <td>-1</td>\n",
              "      <td>G</td>\n",
              "      <td>36.65130</td>\n",
              "      <td>-10.687400</td>\n",
              "      <td>15.069200</td>\n",
              "      <td>31.654400</td>\n",
              "      <td>18.474300</td>\n",
              "      <td>1.307610</td>\n",
              "      <td>2.187680</td>\n",
              "      <td>1</td>\n",
              "      <td>3.10098</td>\n",
              "    </tr>\n",
              "    <tr>\n",
              "      <th>3</th>\n",
              "      <td>165617</td>\n",
              "      <td>75193169</td>\n",
              "      <td>G</td>\n",
              "      <td>19.49230</td>\n",
              "      <td>2.761250</td>\n",
              "      <td>-5.57686</td>\n",
              "      <td>-18.47190</td>\n",
              "      <td>6.22301</td>\n",
              "      <td>-1.808380</td>\n",
              "      <td>-1.111050</td>\n",
              "      <td>1</td>\n",
              "      <td>G</td>\n",
              "      <td>14.93340</td>\n",
              "      <td>1.552490</td>\n",
              "      <td>-6.125350</td>\n",
              "      <td>-13.530200</td>\n",
              "      <td>6.319020</td>\n",
              "      <td>-1.505050</td>\n",
              "      <td>-1.322570</td>\n",
              "      <td>-1</td>\n",
              "      <td>2.33329</td>\n",
              "    </tr>\n",
              "    <tr>\n",
              "      <th>4</th>\n",
              "      <td>165617</td>\n",
              "      <td>74832715</td>\n",
              "      <td>G</td>\n",
              "      <td>8.09718</td>\n",
              "      <td>4.612670</td>\n",
              "      <td>-1.83886</td>\n",
              "      <td>6.39492</td>\n",
              "      <td>4.96570</td>\n",
              "      <td>1.071000</td>\n",
              "      <td>-0.379345</td>\n",
              "      <td>-1</td>\n",
              "      <td>T</td>\n",
              "      <td>3.51313</td>\n",
              "      <td>-0.530458</td>\n",
              "      <td>0.688020</td>\n",
              "      <td>3.402380</td>\n",
              "      <td>0.868767</td>\n",
              "      <td>2.074220</td>\n",
              "      <td>2.227600</td>\n",
              "      <td>1</td>\n",
              "      <td>4.56326</td>\n",
              "    </tr>\n",
              "  </tbody>\n",
              "</table>\n",
              "</div>"
            ],
            "text/plain": [
              "      Run     Event Type1        E1  ...      eta2      phi2  Q2        M\n",
              "0  165617  75206813     G  10.16230  ...  0.853872 -1.376610   1  3.11319\n",
              "1  165617  75678475     G  15.87990  ... -0.007133 -0.064321  -1  4.11735\n",
              "2  165617  74428554     G  21.82790  ...  1.307610  2.187680   1  3.10098\n",
              "3  165617  75193169     G  19.49230  ... -1.505050 -1.322570  -1  2.33329\n",
              "4  165617  74832715     G   8.09718  ...  2.074220  2.227600   1  4.56326\n",
              "\n",
              "[5 rows x 21 columns]"
            ]
          },
          "metadata": {
            "tags": []
          },
          "execution_count": 2
        }
      ]
    },
    {
      "cell_type": "code",
      "metadata": {
        "id": "BtJcr1d450Oe",
        "outputId": "61b252fc-ba53-4420-9cad-337c4e9e6416",
        "colab": {
          "base_uri": "https://localhost:8080/"
        }
      },
      "source": [
        "len(df)"
      ],
      "execution_count": null,
      "outputs": [
        {
          "output_type": "execute_result",
          "data": {
            "text/plain": [
              "31892"
            ]
          },
          "metadata": {
            "tags": []
          },
          "execution_count": 18
        }
      ]
    },
    {
      "cell_type": "code",
      "metadata": {
        "id": "Cx76ylkB52io"
      },
      "source": [
        "df['m'] = np.sqrt(2*df['pt1']*df['pt2']*(np.cosh(df['eta1']-df['eta2']) - np.cos(df['phi1']-df['phi2'])))\n",
        "nbins = 100\n",
        "M_hist = np.histogram(df['m'], bins=nbins, range=(2,5)) #número de ocorrência em cada bin"
      ],
      "execution_count": 3,
      "outputs": []
    },
    {
      "cell_type": "code",
      "metadata": {
        "id": "7TAOhwPj7o5J",
        "outputId": "f334e761-0b88-4d95-ad9b-c754522a0fdd",
        "colab": {
          "base_uri": "https://localhost:8080/",
          "height": 550
        }
      },
      "source": [
        "%matplotlib inline \n",
        "import matplotlib.pyplot as plt\n",
        "\n",
        "hist, bins = M_hist\n",
        "print(hist, bins)\n",
        "\n",
        "width=1.0*(bins[1]-bins[0])\n",
        "center = (bins[:-1] + bins[1:]) / 2 \n",
        "plt.bar(center, hist, align='center', width=width, color='b', linewidth=0, edgecolor='b')\n",
        "plt.xlabel('invariant mass[GeV]')\n",
        "plt.xlim(2,5)\n",
        "plt.show()"
      ],
      "execution_count": 5,
      "outputs": [
        {
          "output_type": "stream",
          "text": [
            "[ 364  405  368  341  368  335  385  352  357  309  373  345  334  332\n",
            "  300  291  305  300  266  320  280  269  288  279  291  281  263  249\n",
            "  305  280  273  300  341  619 1489 3991 4780 2178  729  307  223  171\n",
            "  175  183  151  147  146  147  132  121  137  151  131  154  214  320\n",
            "  297  176  141  107   98   96   81  115   89   96   88  103   81  110\n",
            "   96  103  105  104   84  106   97   76   87   89  102  103  104   98\n",
            "   89   97   96  102   98   90   81   86   79   99   82  107   95   87\n",
            "   68   58] [2.   2.03 2.06 2.09 2.12 2.15 2.18 2.21 2.24 2.27 2.3  2.33 2.36 2.39\n",
            " 2.42 2.45 2.48 2.51 2.54 2.57 2.6  2.63 2.66 2.69 2.72 2.75 2.78 2.81\n",
            " 2.84 2.87 2.9  2.93 2.96 2.99 3.02 3.05 3.08 3.11 3.14 3.17 3.2  3.23\n",
            " 3.26 3.29 3.32 3.35 3.38 3.41 3.44 3.47 3.5  3.53 3.56 3.59 3.62 3.65\n",
            " 3.68 3.71 3.74 3.77 3.8  3.83 3.86 3.89 3.92 3.95 3.98 4.01 4.04 4.07\n",
            " 4.1  4.13 4.16 4.19 4.22 4.25 4.28 4.31 4.34 4.37 4.4  4.43 4.46 4.49\n",
            " 4.52 4.55 4.58 4.61 4.64 4.67 4.7  4.73 4.76 4.79 4.82 4.85 4.88 4.91\n",
            " 4.94 4.97 5.  ]\n"
          ],
          "name": "stdout"
        },
        {
          "output_type": "display_data",
          "data": {
            "image/png": "[encoded data removed]",
            "text/plain": [
              "<Figure size 432x288 with 1 Axes>"
            ]
          },
          "metadata": {
            "tags": [],
            "needs_background": "light"
          }
        }
      ]
    },
    {
      "cell_type": "code",
      "metadata": {
        "id": "Q6RxAkf6HlFs",
        "outputId": "104dc06d-65ca-4206-f734-242862b88673",
        "colab": {
          "base_uri": "https://localhost:8080/",
          "height": 217
        }
      },
      "source": [
        "ms = df[(df.Q1 != df.Q2) & ((df.Type1 == 'G') & (df.Type2 == 'G'))]\n",
        "len(ms)\n",
        "ms.head()"
      ],
      "execution_count": null,
      "outputs": [
        {
          "output_type": "execute_result",
          "data": {
            "text/html": [
              "<div>\n",
              "<style scoped>\n",
              "    .dataframe tbody tr th:only-of-type {\n",
              "        vertical-align: middle;\n",
              "    }\n",
              "\n",
              "    .dataframe tbody tr th {\n",
              "        vertical-align: top;\n",
              "    }\n",
              "\n",
              "    .dataframe thead th {\n",
              "        text-align: right;\n",
              "    }\n",
              "</style>\n",
              "<table border=\"1\" class=\"dataframe\">\n",
              "  <thead>\n",
              "    <tr style=\"text-align: right;\">\n",
              "      <th></th>\n",
              "      <th>Run</th>\n",
              "      <th>Event</th>\n",
              "      <th>Type1</th>\n",
              "      <th>E1</th>\n",
              "      <th>px1</th>\n",
              "      <th>py1</th>\n",
              "      <th>pz1</th>\n",
              "      <th>pt1</th>\n",
              "      <th>eta1</th>\n",
              "      <th>phi1</th>\n",
              "      <th>Q1</th>\n",
              "      <th>Type2</th>\n",
              "      <th>E2</th>\n",
              "      <th>px2</th>\n",
              "      <th>py2</th>\n",
              "      <th>pz2</th>\n",
              "      <th>pt2</th>\n",
              "      <th>eta2</th>\n",
              "      <th>phi2</th>\n",
              "      <th>Q2</th>\n",
              "      <th>M</th>\n",
              "      <th>m</th>\n",
              "    </tr>\n",
              "  </thead>\n",
              "  <tbody>\n",
              "    <tr>\n",
              "      <th>0</th>\n",
              "      <td>165617</td>\n",
              "      <td>75206813</td>\n",
              "      <td>G</td>\n",
              "      <td>10.1623</td>\n",
              "      <td>0.476262</td>\n",
              "      <td>-8.51642</td>\n",
              "      <td>5.52306</td>\n",
              "      <td>8.52973</td>\n",
              "      <td>0.609133</td>\n",
              "      <td>-1.514930</td>\n",
              "      <td>-1</td>\n",
              "      <td>G</td>\n",
              "      <td>19.7754</td>\n",
              "      <td>2.75080</td>\n",
              "      <td>-13.987100</td>\n",
              "      <td>13.705900</td>\n",
              "      <td>14.25500</td>\n",
              "      <td>0.853872</td>\n",
              "      <td>-1.376610</td>\n",
              "      <td>1</td>\n",
              "      <td>3.11319</td>\n",
              "      <td>3.105162</td>\n",
              "    </tr>\n",
              "    <tr>\n",
              "      <th>1</th>\n",
              "      <td>165617</td>\n",
              "      <td>75678475</td>\n",
              "      <td>G</td>\n",
              "      <td>15.8799</td>\n",
              "      <td>15.061800</td>\n",
              "      <td>-1.66581</td>\n",
              "      <td>-4.74643</td>\n",
              "      <td>15.15360</td>\n",
              "      <td>-0.308313</td>\n",
              "      <td>-0.110151</td>\n",
              "      <td>1</td>\n",
              "      <td>G</td>\n",
              "      <td>11.9338</td>\n",
              "      <td>11.90840</td>\n",
              "      <td>-0.767017</td>\n",
              "      <td>-0.085117</td>\n",
              "      <td>11.93300</td>\n",
              "      <td>-0.007133</td>\n",
              "      <td>-0.064321</td>\n",
              "      <td>-1</td>\n",
              "      <td>4.11735</td>\n",
              "      <td>4.111802</td>\n",
              "    </tr>\n",
              "    <tr>\n",
              "      <th>2</th>\n",
              "      <td>165617</td>\n",
              "      <td>74428554</td>\n",
              "      <td>G</td>\n",
              "      <td>21.8279</td>\n",
              "      <td>-6.221380</td>\n",
              "      <td>11.08450</td>\n",
              "      <td>17.74470</td>\n",
              "      <td>12.71110</td>\n",
              "      <td>1.135660</td>\n",
              "      <td>2.082250</td>\n",
              "      <td>-1</td>\n",
              "      <td>G</td>\n",
              "      <td>36.6513</td>\n",
              "      <td>-10.68740</td>\n",
              "      <td>15.069200</td>\n",
              "      <td>31.654400</td>\n",
              "      <td>18.47430</td>\n",
              "      <td>1.307610</td>\n",
              "      <td>2.187680</td>\n",
              "      <td>1</td>\n",
              "      <td>3.10098</td>\n",
              "      <td>3.093230</td>\n",
              "    </tr>\n",
              "    <tr>\n",
              "      <th>3</th>\n",
              "      <td>165617</td>\n",
              "      <td>75193169</td>\n",
              "      <td>G</td>\n",
              "      <td>19.4923</td>\n",
              "      <td>2.761250</td>\n",
              "      <td>-5.57686</td>\n",
              "      <td>-18.47190</td>\n",
              "      <td>6.22301</td>\n",
              "      <td>-1.808380</td>\n",
              "      <td>-1.111050</td>\n",
              "      <td>1</td>\n",
              "      <td>G</td>\n",
              "      <td>14.9334</td>\n",
              "      <td>1.55249</td>\n",
              "      <td>-6.125350</td>\n",
              "      <td>-13.530200</td>\n",
              "      <td>6.31902</td>\n",
              "      <td>-1.505050</td>\n",
              "      <td>-1.322570</td>\n",
              "      <td>-1</td>\n",
              "      <td>2.33329</td>\n",
              "      <td>2.323518</td>\n",
              "    </tr>\n",
              "    <tr>\n",
              "      <th>5</th>\n",
              "      <td>165617</td>\n",
              "      <td>74981507</td>\n",
              "      <td>G</td>\n",
              "      <td>30.5862</td>\n",
              "      <td>15.521800</td>\n",
              "      <td>5.12931</td>\n",
              "      <td>-25.85090</td>\n",
              "      <td>16.34740</td>\n",
              "      <td>-1.239060</td>\n",
              "      <td>0.319160</td>\n",
              "      <td>1</td>\n",
              "      <td>G</td>\n",
              "      <td>12.4868</td>\n",
              "      <td>7.76402</td>\n",
              "      <td>1.042470</td>\n",
              "      <td>-9.723280</td>\n",
              "      <td>7.83369</td>\n",
              "      <td>-1.042090</td>\n",
              "      <td>0.133471</td>\n",
              "      <td>-1</td>\n",
              "      <td>3.07267</td>\n",
              "      <td>3.063882</td>\n",
              "    </tr>\n",
              "  </tbody>\n",
              "</table>\n",
              "</div>"
            ],
            "text/plain": [
              "      Run     Event Type1       E1  ...      phi2  Q2        M         m\n",
              "0  165617  75206813     G  10.1623  ... -1.376610   1  3.11319  3.105162\n",
              "1  165617  75678475     G  15.8799  ... -0.064321  -1  4.11735  4.111802\n",
              "2  165617  74428554     G  21.8279  ...  2.187680   1  3.10098  3.093230\n",
              "3  165617  75193169     G  19.4923  ... -1.322570  -1  2.33329  2.323518\n",
              "5  165617  74981507     G  30.5862  ...  0.133471  -1  3.07267  3.063882\n",
              "\n",
              "[5 rows x 22 columns]"
            ]
          },
          "metadata": {
            "tags": []
          },
          "execution_count": 21
        }
      ]
    },
    {
      "cell_type": "code",
      "metadata": {
        "id": "sSw0eyijJJXK",
        "outputId": "cc687322-a4ce-4850-b450-4236bff175b8",
        "colab": {
          "base_uri": "https://localhost:8080/",
          "height": 278
        }
      },
      "source": [
        "M_hist = np.histogram(ms['m'], bins=nbins, range=(2,5))\n",
        "\n",
        "hist, bins = M_hist\n",
        "width = 1.0*(bins[1] - bins[0])\n",
        "center = (bins[:-1] + bins[1:]) / 2\n",
        "plt.bar(center, hist, align='center', width=width, color='b', linewidth=0)\n",
        "plt.xlabel('Invariant mass [GeV]')\n",
        "plt.xlim(2,5)\n",
        "plt.show()"
      ],
      "execution_count": null,
      "outputs": [
        {
          "output_type": "display_data",
          "data": {
            "image/png": "[encoded data removed]",
            "text/plain": [
              "<Figure size 432x288 with 1 Axes>"
            ]
          },
          "metadata": {
            "tags": [],
            "needs_background": "light"
          }
        }
      ]
    },
    {
      "cell_type": "code",
      "metadata": {
        "id": "puMfW-7pLkT7",
        "outputId": "7a9ed983-cad2-48a3-bc05-def4c5d67180",
        "colab": {
          "base_uri": "https://localhost:8080/",
          "height": 278
        }
      },
      "source": [
        "weights = [nbins/np.log(10)/m for m in ms['m']]\n",
        "M_hist = np.histogram(np.log10(ms['m']), bins=nbins, weights=weights, range=(np.log10(2),np.log10(5)))\n",
        "\n",
        "hist, bins = M_hist\n",
        "width = 1.0*(bins[1] - bins[0])\n",
        "center = (bins[:-1] + bins[1:]) / 2\n",
        "plt.bar(center, hist, align='center', width=width, color='w', linewidth=1, edgecolor='b')\n",
        "plt.yscale('log')\n",
        "plt.xlabel('log10(invariant mass) [log10(GeV)]')\n",
        "plt.ylabel('events/ 0.03 GeV')\n",
        "plt.show()"
      ],
      "execution_count": null,
      "outputs": [
        {
          "output_type": "display_data",
          "data": {
            "image/png": "[encoded data removed]",
            "text/plain": [
              "<Figure size 432x288 with 1 Axes>"
            ]
          },
          "metadata": {
            "tags": [],
            "needs_background": "light"
          }
        }
      ]
    },
    {
      "cell_type": "code",
      "metadata": {
        "id": "Pt__X7xkh39_"
      },
      "source": [
        ""
      ],
      "execution_count": null,
      "outputs": []
    }
  ]
}