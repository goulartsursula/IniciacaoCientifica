{
  "nbformat": 4,
  "nbformat_minor": 0,
  "metadata": {
    "colab": {
      "name": "mean_variance_standard-deviation.ipynb",
      "provenance": [],
      "authorship_tag": "ABX9TyOxsUCXLGoN9QBpc+2S58CW",
      "include_colab_link": true
    },
    "kernelspec": {
      "name": "python3",
      "display_name": "Python 3"
    }
  },
  "cells": [
    {
      "cell_type": "markdown",
      "metadata": {
        "id": "view-in-github",
        "colab_type": "text"
      },
      "source": [
        "<a href=\"https://colab.research.google.com/github/goulartsursula/iniciacao-cientifica/blob/master/notebooks/mean_variance_standard_deviation.ipynb\" target=\"_parent\"><img src=\"https://colab.research.google.com/assets/colab-badge.svg\" alt=\"Open In Colab\"/></a>"
      ]
    },
    {
      "cell_type": "code",
      "metadata": {
        "id": "fyN9qQ6d-_SP",
        "outputId": "19d84cf2-7479-4d38-9147-4add2a9636af",
        "colab": {
          "base_uri": "https://localhost:8080/",
          "height": 217
        }
      },
      "source": [
        "import pandas as pd\n",
        "import numpy as np\n",
        "import matplotlib.pyplot as plt\n",
        "\n",
        "dataset = pd.read_csv('https://raw.githubusercontent.com/cms-opendata-education/cms-jupyter-materials-english/master/Data/Jpsimumu_Run2011A.csv')\n",
        "\n",
        "inv_mass = dataset['M']\n",
        "dataset.head()"
      ],
      "execution_count": 6,
      "outputs": [
        {
          "output_type": "execute_result",
          "data": {
            "text/html": [
              "<div>\n",
              "<style scoped>\n",
              "    .dataframe tbody tr th:only-of-type {\n",
              "        vertical-align: middle;\n",
              "    }\n",
              "\n",
              "    .dataframe tbody tr th {\n",
              "        vertical-align: top;\n",
              "    }\n",
              "\n",
              "    .dataframe thead th {\n",
              "        text-align: right;\n",
              "    }\n",
              "</style>\n",
              "<table border=\"1\" class=\"dataframe\">\n",
              "  <thead>\n",
              "    <tr style=\"text-align: right;\">\n",
              "      <th></th>\n",
              "      <th>Run</th>\n",
              "      <th>Event</th>\n",
              "      <th>Type1</th>\n",
              "      <th>E1</th>\n",
              "      <th>px1</th>\n",
              "      <th>py1</th>\n",
              "      <th>pz1</th>\n",
              "      <th>pt1</th>\n",
              "      <th>eta1</th>\n",
              "      <th>phi1</th>\n",
              "      <th>Q1</th>\n",
              "      <th>Type2</th>\n",
              "      <th>E2</th>\n",
              "      <th>px2</th>\n",
              "      <th>py2</th>\n",
              "      <th>pz2</th>\n",
              "      <th>pt2</th>\n",
              "      <th>eta2</th>\n",
              "      <th>phi2</th>\n",
              "      <th>Q2</th>\n",
              "      <th>M</th>\n",
              "    </tr>\n",
              "  </thead>\n",
              "  <tbody>\n",
              "    <tr>\n",
              "      <th>0</th>\n",
              "      <td>165617</td>\n",
              "      <td>75206813</td>\n",
              "      <td>G</td>\n",
              "      <td>10.16230</td>\n",
              "      <td>0.476262</td>\n",
              "      <td>-8.51642</td>\n",
              "      <td>5.52306</td>\n",
              "      <td>8.52973</td>\n",
              "      <td>0.609133</td>\n",
              "      <td>-1.514930</td>\n",
              "      <td>-1</td>\n",
              "      <td>G</td>\n",
              "      <td>19.77540</td>\n",
              "      <td>2.750800</td>\n",
              "      <td>-13.987100</td>\n",
              "      <td>13.705900</td>\n",
              "      <td>14.255000</td>\n",
              "      <td>0.853872</td>\n",
              "      <td>-1.376610</td>\n",
              "      <td>1</td>\n",
              "      <td>3.11319</td>\n",
              "    </tr>\n",
              "    <tr>\n",
              "      <th>1</th>\n",
              "      <td>165617</td>\n",
              "      <td>75678475</td>\n",
              "      <td>G</td>\n",
              "      <td>15.87990</td>\n",
              "      <td>15.061800</td>\n",
              "      <td>-1.66581</td>\n",
              "      <td>-4.74643</td>\n",
              "      <td>15.15360</td>\n",
              "      <td>-0.308313</td>\n",
              "      <td>-0.110151</td>\n",
              "      <td>1</td>\n",
              "      <td>G</td>\n",
              "      <td>11.93380</td>\n",
              "      <td>11.908400</td>\n",
              "      <td>-0.767017</td>\n",
              "      <td>-0.085117</td>\n",
              "      <td>11.933000</td>\n",
              "      <td>-0.007133</td>\n",
              "      <td>-0.064321</td>\n",
              "      <td>-1</td>\n",
              "      <td>4.11735</td>\n",
              "    </tr>\n",
              "    <tr>\n",
              "      <th>2</th>\n",
              "      <td>165617</td>\n",
              "      <td>74428554</td>\n",
              "      <td>G</td>\n",
              "      <td>21.82790</td>\n",
              "      <td>-6.221380</td>\n",
              "      <td>11.08450</td>\n",
              "      <td>17.74470</td>\n",
              "      <td>12.71110</td>\n",
              "      <td>1.135660</td>\n",
              "      <td>2.082250</td>\n",
              "      <td>-1</td>\n",
              "      <td>G</td>\n",
              "      <td>36.65130</td>\n",
              "      <td>-10.687400</td>\n",
              "      <td>15.069200</td>\n",
              "      <td>31.654400</td>\n",
              "      <td>18.474300</td>\n",
              "      <td>1.307610</td>\n",
              "      <td>2.187680</td>\n",
              "      <td>1</td>\n",
              "      <td>3.10098</td>\n",
              "    </tr>\n",
              "    <tr>\n",
              "      <th>3</th>\n",
              "      <td>165617</td>\n",
              "      <td>75193169</td>\n",
              "      <td>G</td>\n",
              "      <td>19.49230</td>\n",
              "      <td>2.761250</td>\n",
              "      <td>-5.57686</td>\n",
              "      <td>-18.47190</td>\n",
              "      <td>6.22301</td>\n",
              "      <td>-1.808380</td>\n",
              "      <td>-1.111050</td>\n",
              "      <td>1</td>\n",
              "      <td>G</td>\n",
              "      <td>14.93340</td>\n",
              "      <td>1.552490</td>\n",
              "      <td>-6.125350</td>\n",
              "      <td>-13.530200</td>\n",
              "      <td>6.319020</td>\n",
              "      <td>-1.505050</td>\n",
              "      <td>-1.322570</td>\n",
              "      <td>-1</td>\n",
              "      <td>2.33329</td>\n",
              "    </tr>\n",
              "    <tr>\n",
              "      <th>4</th>\n",
              "      <td>165617</td>\n",
              "      <td>74832715</td>\n",
              "      <td>G</td>\n",
              "      <td>8.09718</td>\n",
              "      <td>4.612670</td>\n",
              "      <td>-1.83886</td>\n",
              "      <td>6.39492</td>\n",
              "      <td>4.96570</td>\n",
              "      <td>1.071000</td>\n",
              "      <td>-0.379345</td>\n",
              "      <td>-1</td>\n",
              "      <td>T</td>\n",
              "      <td>3.51313</td>\n",
              "      <td>-0.530458</td>\n",
              "      <td>0.688020</td>\n",
              "      <td>3.402380</td>\n",
              "      <td>0.868767</td>\n",
              "      <td>2.074220</td>\n",
              "      <td>2.227600</td>\n",
              "      <td>1</td>\n",
              "      <td>4.56326</td>\n",
              "    </tr>\n",
              "  </tbody>\n",
              "</table>\n",
              "</div>"
            ],
            "text/plain": [
              "      Run     Event Type1        E1  ...      eta2      phi2  Q2        M\n",
              "0  165617  75206813     G  10.16230  ...  0.853872 -1.376610   1  3.11319\n",
              "1  165617  75678475     G  15.87990  ... -0.007133 -0.064321  -1  4.11735\n",
              "2  165617  74428554     G  21.82790  ...  1.307610  2.187680   1  3.10098\n",
              "3  165617  75193169     G  19.49230  ... -1.505050 -1.322570  -1  2.33329\n",
              "4  165617  74832715     G   8.09718  ...  2.074220  2.227600   1  4.56326\n",
              "\n",
              "[5 rows x 21 columns]"
            ]
          },
          "metadata": {
            "tags": []
          },
          "execution_count": 6
        }
      ]
    },
    {
      "cell_type": "code",
      "metadata": {
        "id": "gP_eRNYmL78J",
        "outputId": "ab2a02e0-5a34-4b7c-93fe-91e6f46a0186",
        "colab": {
          "base_uri": "https://localhost:8080/",
          "height": 264
        }
      },
      "source": [
        "plt.hist(inv_mass, bins=500)\n",
        "plt.show()"
      ],
      "execution_count": 3,
      "outputs": [
        {
          "output_type": "display_data",
          "data": {
            "image/png": "[encoded data removed]",
            "text/plain": [
              "<Figure size 432x288 with 1 Axes>"
            ]
          },
          "metadata": {
            "tags": [],
            "needs_background": "light"
          }
        }
      ]
    },
    {
      "cell_type": "code",
      "metadata": {
        "id": "taa0vBvHMErG",
        "outputId": "bed724ce-6fcc-4abc-d907-c26ae9186c91",
        "colab": {
          "base_uri": "https://localhost:8080/",
          "height": 264
        }
      },
      "source": [
        "peakdata = dataset[(inv_mass>3.0) & (inv_mass<3.2)]\n",
        "peak_invmass = peakdata['M']\n",
        "plt.hist(peak_invmass, bins=200)\n",
        "plt.show()"
      ],
      "execution_count": 4,
      "outputs": [
        {
          "output_type": "display_data",
          "data": {
            "image/png": "[encoded data removed]",
            "text/plain": [
              "<Figure size 432x288 with 1 Axes>"
            ]
          },
          "metadata": {
            "tags": [],
            "needs_background": "light"
          }
        }
      ]
    },
    {
      "cell_type": "code",
      "metadata": {
        "id": "Wp5YAzkHMkEK",
        "outputId": "f888be94-0509-408f-ec46-74d297fe47f8",
        "colab": {
          "base_uri": "https://localhost:8080/"
        }
      },
      "source": [
        "#mean\n",
        "\n",
        "mean_masses = np.mean(inv_mass)\n",
        "print(mean_masses)"
      ],
      "execution_count": 7,
      "outputs": [
        {
          "output_type": "stream",
          "text": [
            "3.084373634453779\n"
          ],
          "name": "stdout"
        }
      ]
    },
    {
      "cell_type": "code",
      "metadata": {
        "id": "6mr-zfv8NWvT",
        "outputId": "6f2a9fdf-7c02-4d16-f811-1384ecb50be1",
        "colab": {
          "base_uri": "https://localhost:8080/"
        }
      },
      "source": [
        "#mean of the first peak\n",
        "\n",
        "mean_peakmasses = np.mean(peak_invmass)\n",
        "print(mean_peakmasses)"
      ],
      "execution_count": 8,
      "outputs": [
        {
          "output_type": "stream",
          "text": [
            "3.0934255293362796\n"
          ],
          "name": "stdout"
        }
      ]
    },
    {
      "cell_type": "code",
      "metadata": {
        "id": "pNR8t35VNpNA",
        "outputId": "5b166b77-5c07-4ca4-9772-a3824ca7da9c",
        "colab": {
          "base_uri": "https://localhost:8080/"
        }
      },
      "source": [
        "#variance\n",
        "\n",
        "variance = np.var(inv_mass)\n",
        "print(variance)"
      ],
      "execution_count": 9,
      "outputs": [
        {
          "output_type": "stream",
          "text": [
            "0.39216919088955843\n"
          ],
          "name": "stdout"
        }
      ]
    },
    {
      "cell_type": "code",
      "metadata": {
        "id": "g8pwLdLdN4Qk",
        "outputId": "9e8be344-8839-44d0-9afd-d0347178cb2d",
        "colab": {
          "base_uri": "https://localhost:8080/"
        }
      },
      "source": [
        "#variance to the first peak\n",
        "\n",
        "peak_variance = np.var(peak_invmass)\n",
        "print(peak_variance)"
      ],
      "execution_count": 10,
      "outputs": [
        {
          "output_type": "stream",
          "text": [
            "0.0012908143684854008\n"
          ],
          "name": "stdout"
        }
      ]
    },
    {
      "cell_type": "code",
      "metadata": {
        "id": "ZlxTF7dqOGcl",
        "outputId": "be2cf6bb-505c-4a49-94af-1e9f0a605628",
        "colab": {
          "base_uri": "https://localhost:8080/"
        }
      },
      "source": [
        "#standard deviation (desvio padrão)\n",
        "\n",
        "sd = np.sqrt(variance)\n",
        "print(sd)"
      ],
      "execution_count": 12,
      "outputs": [
        {
          "output_type": "stream",
          "text": [
            "0.6262341342417853\n"
          ],
          "name": "stdout"
        }
      ]
    },
    {
      "cell_type": "code",
      "metadata": {
        "id": "QRd1i6UVOVd6",
        "outputId": "1c3805dc-112d-49b7-92bb-7dbe2c43dc65",
        "colab": {
          "base_uri": "https://localhost:8080/"
        }
      },
      "source": [
        "#standard deviation to the first peak\n",
        "\n",
        "sd_peak = np.sqrt(peak_variance)\n",
        "print(sd_peak)"
      ],
      "execution_count": 13,
      "outputs": [
        {
          "output_type": "stream",
          "text": [
            "0.03592790515025056\n"
          ],
          "name": "stdout"
        }
      ]
    }
  ]
}