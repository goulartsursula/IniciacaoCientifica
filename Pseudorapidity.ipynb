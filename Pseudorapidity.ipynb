{
  "nbformat": 4,
  "nbformat_minor": 0,
  "metadata": {
    "colab": {
      "name": "Pseudorapidity.ipynb",
      "provenance": [],
      "authorship_tag": "ABX9TyOsOAZO8W/rBvd2uPyJq1nh",
      "include_colab_link": true
    },
    "kernelspec": {
      "display_name": "Python 3",
      "name": "python3"
    }
  },
  "cells": [
    {
      "cell_type": "markdown",
      "metadata": {
        "id": "view-in-github",
        "colab_type": "text"
      },
      "source": [
        "<a href=\"https://colab.research.google.com/github/goulartsursula/iniciacao-cientifica/blob/master/Pseudorapidity.ipynb\" target=\"_parent\"><img src=\"https://colab.research.google.com/assets/colab-badge.svg\" alt=\"Open In Colab\"/></a>"
      ]
    },
    {
      "cell_type": "markdown",
      "metadata": {
        "id": "tc6ewvDVUwD_"
      },
      "source": [
        "## Pseudorapidity\n",
        "\n",
        "In experimental particle physics pseudorapidity $\\eta$ is a spatial coordinate used to describe the angle between a particle and the particle beam. Pseudorapidity is determined by the equation\n",
        "\n",
        "$$ \\eta \\equiv -\\ln(\\tan(\\frac{\\theta}{2})), $$\n",
        "where $\\theta$ is the angle of a particle relative to the particle beam.\n",
        "\n",
        "Pseudorapidity thus describes the angle between a detected particle and the particle beam. In the image below the particle beam would go horizontally from left to right. So with the large values of $\\eta$ a particle created in the collision would differ just a little from the direction of the beam. With the small values of $\\eta$ the deflection is bigger."
      ]
    },
    {
      "cell_type": "markdown",
      "metadata": {
        "id": "HF4eO4PFYD5r"
      },
      "source": [
        "##1. Selecting the events\n",
        "\n",
        "First we will select from all the events into two groups the events where the pseudorapidity of the two muons have been relatively large (e.g. $\\eta$ > 1.52) and relatively small (e.g. $\\eta$ < 0.45). The selection is made with the code below. We want about the same amount of events to both groups so that the comparison could be done.\n",
        "\n",
        "\n"
      ]
    },
    {
      "cell_type": "code",
      "metadata": {
        "colab": {
          "base_uri": "https://localhost:8080/"
        },
        "id": "FHIoQVb2UmOM",
        "outputId": "9e39d484-23bf-42a3-a639-348aa53efbff"
      },
      "source": [
        "# Import the needed modules. Pandas is for the data-analysis, numpy for scientific calculation\n",
        "# and matplotlib.pyplot for making plots. Modules are named as pd, np and plt.\n",
        "import pandas as pd\n",
        "import numpy as np\n",
        "import matplotlib.pyplot as plt\n",
        "\n",
        "# Create a new DataFrame structure from the file \"Zmumu_Run2011A_masses.csv\"\n",
        "dataset = pd.read_csv('https://raw.githubusercontent.com/goulartsursula/cms-jupyter-materials-english/master/Data/Zmumu_Run2011A_masses.csv')\n",
        "\n",
        "# Set the conditions to large and small etas. These can be changed, but it has to be taken\n",
        "# care that about the same amount of events are selected in both groups.\n",
        "cond1 = 1.52\n",
        "cond2 = 0.45\n",
        "\n",
        "# Create two DataFrames. Select to \"large_etas\" events where the pseudorapidities\n",
        "# of the both muons are larger than \"cond1\". Select to \"small_etas\" events where\n",
        "# the pseudorapidities of the both muons are smaller than \"cond2\".\n",
        "large_etas = dataset[(np.absolute(dataset.eta1) > cond1) & (np.absolute(dataset.eta2) > cond1)]\n",
        "small_etas = dataset[(np.absolute(dataset.eta1) < cond2) & (np.absolute(dataset.eta2) < cond2)]\n",
        "\n",
        "# Print two empty lines for better design.\n",
        "print('\\n' * 2)\n",
        "\n",
        "print('The amount of all events = %d' % len(dataset))\n",
        "print('The amount of events where the pseudorapidity of both muons has been large = %d' %len(large_etas))\n",
        "print('The amount of events where the pseudorapidity of both muons has been small = %d' %len(small_etas))"
      ],
      "execution_count": null,
      "outputs": [
        {
          "output_type": "stream",
          "text": [
            "\n",
            "\n",
            "\n",
            "The amount of all events = 10851\n",
            "The amount of events where the pseudorapidity of both muons has been large = 615\n",
            "The amount of events where the pseudorapidity of both muons has been small = 603\n"
          ],
          "name": "stdout"
        }
      ]
    },
    {
      "cell_type": "markdown",
      "metadata": {
        "id": "ua2qgyCLY5rU"
      },
      "source": [
        "##2. Creating the histograms\n",
        "Next we will create the separate histograms of the invariant masses for the events with the large pseudorapidities and with the small pseudorapidities. With the histograms we can compare these two situations.\n",
        "\n",
        "###2.1 Histogram for the large $\\eta$ events\n",
        "\n",
        "Let's start with the events where the pseudorapidity of both of the muons has been large."
      ]
    },
    {
      "cell_type": "code",
      "metadata": {
        "colab": {
          "base_uri": "https://localhost:8080/",
          "height": 325
        },
        "id": "rUXQWWxsYvTS",
        "outputId": "e07394e0-7ce9-45e2-e30c-69af4867459d"
      },
      "source": [
        "# Save the invariant masses to variable \"inv_mass1\".\n",
        "inv_mass1 = large_etas['M']\n",
        "\n",
        "# Jupyter Notebook uses \"magic functions\". With this function it is possible to plot\n",
        "# the histogram straight to notebook.\n",
        "% matplotlib inline\n",
        "\n",
        "# Create the histogram from data in variable \"inv_mass1\". Set bins and range.\n",
        "plt.hist(inv_mass1, bins=120, range=(60,120))\n",
        "\n",
        "# Set y-axis range from 0 to 60.\n",
        "axes = plt.gca()\n",
        "axes.set_ylim([0,60])\n",
        "\n",
        "# Name the axises and give a title.\n",
        "plt.xlabel('Invariant mass [GeV]')\n",
        "plt.ylabel('Number of events per bin')\n",
        "plt.title('Histogram of invariant masses for the events where the\\n pseudorapidity of both of the muons has been large\\n')\n",
        "plt.show()"
      ],
      "execution_count": null,
      "outputs": [
        {
          "output_type": "display_data",
          "data": {
            "image/png": "[encoded data removed]",
            "text/plain": [
              "<Figure size 432x288 with 1 Axes>"
            ]
          },
          "metadata": {
            "tags": []
          }
        }
      ]
    },
    {
      "cell_type": "markdown",
      "metadata": {
        "id": "yocHXRP7ZxqN"
      },
      "source": [
        ""
      ]
    },
    {
      "cell_type": "code",
      "metadata": {
        "colab": {
          "background_save": true
        },
        "id": "t42hxVuTZyOX",
        "outputId": "c5c73971-c724-484f-9825-118bcdbe0aed"
      },
      "source": [
        "\n",
        "# Save the invariant masses to variable \"inv_mass2\".\n",
        "inv_mass2 = small_etas['M']\n",
        "\n",
        "# Jupyter Notebook uses \"magic functions\". With this function it is possible to plot\n",
        "# the histogram straight to notebook.\n",
        "% matplotlib inline\n",
        "\n",
        "# Create the histogram from data in variable \"inv_mass1\". Set bins and range.\n",
        "plt.hist(inv_mass2, bins=120, range=(60,120))\n",
        "\n",
        "# Set y-axis range from 0 to 60.\n",
        "axes = plt.gca()\n",
        "axes.set_ylim([0,60])\n",
        "\n",
        "# Name the axises and give a title.\n",
        "plt.xlabel('Invariant mass [GeV]')\n",
        "plt.ylabel('Number of events per bin')\n",
        "plt.title('Histogram of invariant masses for the events where the\\n pseudorapidity of both of the muons has been small\\n')\n",
        "plt.show()"
      ],
      "execution_count": null,
      "outputs": [
        {
          "output_type": "display_data",
          "data": {
            "image/png": "[encoded data removed]",
            "text/plain": [
              "<Figure size 432x288 with 1 Axes>"
            ]
          },
          "metadata": {
            "tags": []
          }
        }
      ]
    }
  ]
}